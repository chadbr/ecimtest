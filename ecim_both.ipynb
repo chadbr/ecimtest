{
  "cells": [
    {
      "cell_type": "markdown",
      "metadata": {
        "id": "view-in-github",
        "colab_type": "text"
      },
      "source": [
        "<a href=\"https://colab.research.google.com/github/chadbr/ecimtest/blob/main/ecim_both.ipynb\" target=\"_parent\"><img src=\"https://colab.research.google.com/assets/colab-badge.svg\" alt=\"Open In Colab\"/></a>"
      ]
    },
    {
      "cell_type": "markdown",
      "metadata": {
        "id": "feBzM6OmEbJ8"
      },
      "source": [
        "# Init"
      ]
    },
    {
      "cell_type": "code",
      "source": [],
      "metadata": {
        "id": "U6SwKY3a9Fyn"
      },
      "execution_count": null,
      "outputs": []
    },
    {
      "cell_type": "code",
      "source": [
        "# google-api-core==2.19.1\n",
        "# google-auth==2.33.0\n",
        "# google-cloud-core==2.4.1\n",
        "# google-cloud-storage==2.18.2\n",
        "# google-crc32c==1.5.0\n",
        "# google-resumable-media==2.7.2\n",
        "# googleapis-common-protos==1.63.2\n",
        "\n",
        "!pip install osdu-api==0.26.0 \\\n",
        "  --extra-index-url https://community.opengroup.org/api/v4/projects/148/packages/pypi/simple\n",
        "!pip install requests==2.32.3\n",
        "!pip install tenacity==9.0.0\n",
        "!pip install urllib3==2.2.2\n",
        "\n"
      ],
      "metadata": {
        "id": "ZAekobNusaej"
      },
      "execution_count": null,
      "outputs": []
    },
    {
      "cell_type": "markdown",
      "metadata": {
        "id": "H2Zp9QYou-ha"
      },
      "source": [
        "### Required"
      ]
    },
    {
      "cell_type": "code",
      "execution_count": null,
      "metadata": {
        "id": "JR9akV6hviLw"
      },
      "outputs": [],
      "source": [
        "import pprint\n",
        "import requests\n",
        "\n",
        "import io\n",
        "import os\n",
        "import pprint\n",
        "import urllib3\n",
        "import json\n",
        "\n",
        "from pprint import pprint\n",
        "\n",
        "from IPython.display import display\n",
        "from PIL import Image\n",
        "\n",
        "from osdu_api.auth.refresh_token import BaseTokenRefresher\n",
        "\n",
        "from osdu_api.clients.storage.record_client import RecordClient\n",
        "from osdu_api.clients.search.search_client import SearchClient\n",
        "from osdu_api.clients.schema.schema_client import SchemaClient\n",
        "from osdu_api.clients.dataset.dataset_dms_client import DatasetDmsClient\n",
        "from osdu_api.clients.dataset.dataset_registry_client import DatasetRegistryClient\n",
        "\n",
        "from osdu_api.model.storage.legal import Legal\n",
        "from osdu_api.model.storage.record import Record\n",
        "from osdu_api.model.storage.record_ancestry import RecordAncestry\n",
        "from osdu_api.model.storage.acl import Acl\n",
        "from osdu_api.model.search.query_request import QueryRequest\n",
        "from osdu_api.model.storage.query_records_request import QueryRecordsRequest\n",
        "from osdu_api.model.dataset.create_dataset_registries_request import CreateDatasetRegistriesRequest\n",
        "from google.colab import userdata\n",
        "\n",
        "\n",
        "urllib3.disable_warnings()\n",
        "print(\"\\ndone\")"
      ]
    },
    {
      "cell_type": "markdown",
      "metadata": {
        "id": "dyzuwtaGh93o"
      },
      "source": [
        "#### Option 1: Credentials for Cimpl"
      ]
    },
    {
      "cell_type": "markdown",
      "source": [
        "\n",
        "Credentials for remote Cimpl"
      ],
      "metadata": {
        "id": "RS6v18xe4O2b"
      }
    },
    {
      "cell_type": "code",
      "execution_count": null,
      "metadata": {
        "id": "feo5UdxWeqHp"
      },
      "outputs": [],
      "source": [
        "# %%script echo skip the optional part\n",
        "\n",
        "# CLOUD_PROVIDER = \"baremetal\"\n",
        "# os.environ[\"KEYCLOAK_AUTH_URL\"] = \"https://keycloak.ecim24.com/realms/osdu/protocol/openid-connect/token\"\n",
        "# os.environ[\"KEYCLOAK_CLIENT_ID\"] = \"datafier\"\n",
        "# os.environ[\"KEYCLOAK_CLIENT_SECRET\"] = userdata.get(\"datafierpassword\")\n",
        "# os.environ[\"CLOUD_PROVIDER\"] = CLOUD_PROVIDER\n",
        "\n",
        "# schema = 'https'\n",
        "# BASE_URL = f\"{schema}://osdu.ecim24.com\"\n",
        "\n",
        "# print(\"\\ndone\")"
      ]
    },
    {
      "cell_type": "markdown",
      "source": [
        "Credentials for local Cimpl"
      ],
      "metadata": {
        "id": "MbeERG6y3heO"
      }
    },
    {
      "cell_type": "code",
      "execution_count": null,
      "metadata": {
        "id": "lwMkkb7bsH9Q"
      },
      "outputs": [],
      "source": [
        "# %%script echo skip the optional part\n",
        "\n",
        "# CLOUD_PROVIDER = \"baremetal\"\n",
        "# os.environ[\"KEYCLOAK_AUTH_URL\"] = \"http://keycloak.localhost/realms/osdu/protocol/openid-connect/token\"\n",
        "# os.environ[\"KEYCLOAK_CLIENT_ID\"] = \"osdu-admin\"\n",
        "# os.environ[\"KEYCLOAK_CLIENT_SECRET\"] = \"\"\n",
        "# os.environ[\"CLOUD_PROVIDER\"] = CLOUD_PROVIDER\n",
        "\n",
        "# schema = 'http'\n",
        "# BASE_URL = f\"{schema}://osdu.localhost\"\n",
        "\n",
        "# print(\"\\ndone\")"
      ]
    },
    {
      "cell_type": "markdown",
      "source": [
        "#### Option 2: Credentials for GC"
      ],
      "metadata": {
        "id": "AjGAVUF_3vLj"
      }
    },
    {
      "cell_type": "code",
      "source": [
        "# %%script echo skip the optional part\n",
        "\n",
        "!gcloud auth application-default login --no-launch-browser\n",
        "\n",
        "\n",
        "CLOUD_PROVIDER = \"gc\"\n",
        "\n",
        "os.environ[\"CLOUD_PROVIDER\"] = CLOUD_PROVIDER\n",
        "\n",
        "schema = 'https'\n",
        "BASE_URL = f\"{schema}://gcp.ecim24.com\"\n"
      ],
      "metadata": {
        "collapsed": true,
        "id": "kZut8NE94dyy"
      },
      "execution_count": null,
      "outputs": []
    },
    {
      "cell_type": "markdown",
      "metadata": {
        "id": "GXV4Qf8BNsVU"
      },
      "source": [
        "#### Loading the config"
      ]
    },
    {
      "cell_type": "code",
      "execution_count": null,
      "metadata": {
        "id": "Jkdw3w9GhoAN",
        "collapsed": true
      },
      "outputs": [],
      "source": [
        "config_url = BASE_URL + \"/api/config/v1/postman-environment\"\n",
        "config_response = requests.get(config_url).json()\n",
        "config = {}\n",
        "for entity in config_response['values']:\n",
        "    config[entity['key']] = entity['value']\n",
        "config['data-partition-id'] = \"osdu\"\n",
        "\n",
        "# pprint(config_response)\n",
        "print(config['SEISMICDMS_HOST'])\n",
        "print(f\"data partition is {config['data-partition-id']}\")\n",
        "print(\"\\ndone\")"
      ]
    },
    {
      "cell_type": "code",
      "execution_count": null,
      "metadata": {
        "id": "IwQkK2GwsH9R"
      },
      "outputs": [],
      "source": [
        "token_refresher = BaseTokenRefresher()\n",
        "token_refresher.refresh_token()\n",
        "#print(\"\\ndone\")"
      ]
    },
    {
      "cell_type": "markdown",
      "metadata": {
        "id": "iyx8sC2Sb1P7"
      },
      "source": [
        "#### OSDU clients and default values"
      ]
    },
    {
      "cell_type": "code",
      "execution_count": null,
      "metadata": {
        "id": "9WPPUoYtwx48"
      },
      "outputs": [],
      "source": [
        "search_client = SearchClient(\n",
        "    search_url=f\"{schema}://{config['SEARCH_HOST']}\",\n",
        "    provider=CLOUD_PROVIDER,\n",
        "    token_refresher=token_refresher,\n",
        "    data_partition_id=config['data-partition-id']\n",
        ")\n",
        "\n",
        "schema_client = SchemaClient(\n",
        "    schema_url=f\"{schema}://{config['SCHEMA_HOST']}/api/schema-service/v1\",\n",
        "    provider=CLOUD_PROVIDER,\n",
        "    token_refresher=token_refresher,\n",
        "    data_partition_id=config['data-partition-id']\n",
        ")\n",
        "\n",
        "dataset_client = DatasetDmsClient(\n",
        "    dataset_url=f\"{schema}://{config['DATASET_HOST']}\",\n",
        "    provider=CLOUD_PROVIDER,\n",
        "    token_refresher=token_refresher,\n",
        "    data_partition_id=config['data-partition-id']\n",
        ")\n",
        "dataset_registry_client = DatasetRegistryClient(\n",
        "    dataset_url=f\"{schema}://{config['DATASET_HOST']}\",\n",
        "    provider=CLOUD_PROVIDER,\n",
        "    token_refresher=token_refresher,\n",
        "    data_partition_id=config['data-partition-id']\n",
        ")\n",
        "\n",
        "storage_client = record_client = RecordClient(\n",
        "    storage_url=f\"{schema}://{config['STORAGE_HOST']}\",\n",
        "    provider=CLOUD_PROVIDER,\n",
        "    token_refresher=token_refresher,\n",
        "    data_partition_id=config['data-partition-id']\n",
        ")\n",
        "\n",
        "query_request = QueryRequest(\n",
        "    kind=\"*:*:*:*\",\n",
        "    query=\"\",\n",
        "    limit=1,\n",
        "    returned_fields=[\"*\"]\n",
        ")\n",
        "response = search_client.query_records(query_request).json()\n",
        "pprint(response)\n",
        "\n",
        "default_acl = response['results'][0]['acl']\n",
        "default_legal_tags = [\"osdu-default-data-tag\"]\n",
        "\n",
        "pprint(response)\n",
        "pprint(default_acl)\n",
        "pprint(default_legal_tags)\n",
        "\n",
        "urllib3.disable_warnings()\n",
        "\n",
        "print(\"\\ndone\")"
      ]
    },
    {
      "cell_type": "markdown",
      "metadata": {
        "id": "oI41pTCtniEZ"
      },
      "source": [
        "# Slot 1 - Using Core APIs"
      ]
    },
    {
      "cell_type": "markdown",
      "metadata": {
        "id": "WMwvDGXluFA0"
      },
      "source": [
        "#### All to register and make successful connection to workbook and both OSDU instances"
      ]
    },
    {
      "cell_type": "code",
      "execution_count": null,
      "metadata": {
        "id": "n8gfFHFREfr8"
      },
      "outputs": [],
      "source": [
        "search_response = requests.get(f\"{schema}://{config['SEARCH_HOST']}/info\")\n",
        "\n",
        "pprint(search_response.json())\n",
        "\n",
        "print(\"\\ndone\")"
      ]
    },
    {
      "cell_type": "markdown",
      "metadata": {
        "id": "5_pOi-TXuNvF"
      },
      "source": [
        "#### All able to execute and understand the result on some of the core APIs"
      ]
    },
    {
      "cell_type": "code",
      "execution_count": null,
      "metadata": {
        "id": "RsJv6RByEhCp",
        "collapsed": true
      },
      "outputs": [],
      "source": [
        "# List all records\n",
        "query_request = QueryRequest(\n",
        "    kind= \"*:*:*:*\",\n",
        "    query=\"\",\n",
        "    limit=2,\n",
        "    returned_fields=[\"*\"]\n",
        ")\n",
        "response = search_client.query_records(query_request)\n",
        "\n",
        "pprint(response.json())\n",
        "\n",
        "print(\"\\ndone\")"
      ]
    },
    {
      "cell_type": "code",
      "execution_count": null,
      "metadata": {
        "id": "ssjvUK-Epeyl"
      },
      "outputs": [],
      "source": [
        "# List a specific subset of records based on schema type/kind\n",
        "query_request = QueryRequest(\n",
        "    kind=\"osdu:wks:master-data--Agreement:1.0.0\",\n",
        "    query=\"\",\n",
        "    limit=2,\n",
        "    returned_fields=[\"*\"]\n",
        ")\n",
        "response = search_client.query_records(query_request)\n",
        "\n",
        "pprint(response.json())\n",
        "\n",
        "print(\"\\ndone\")"
      ]
    },
    {
      "cell_type": "code",
      "execution_count": null,
      "metadata": {
        "id": "7kocMJ7MpnBv",
        "collapsed": true
      },
      "outputs": [],
      "source": [
        "# Find the description of specific schema/kind to show that schemas are a part of the platform\n",
        "response = schema_client.get_schema_by_id('osdu:wks:master-data--Agreement:1.0.0').json()\n",
        "# String representation of the response for pretty printing\n",
        "schema_json = json.dumps(response, indent=4)\n",
        "print(schema_json)\n",
        "print(\"\\ndone\")"
      ]
    },
    {
      "cell_type": "markdown",
      "metadata": {
        "id": "ritDpH2YuToM"
      },
      "source": [
        "#### Show that the platform is generic and/extendable and can store any data type in addition to defined \"well known\" schemas\n",
        "\n",
        "\n",
        "\n",
        "\n"
      ]
    },
    {
      "cell_type": "code",
      "execution_count": null,
      "metadata": {
        "id": "1fvJqT6iRYhd"
      },
      "outputs": [],
      "source": [
        "response = dataset_client.storage_instructions(kind_sub_type='dataset--File.Generic').json()\n",
        "\n",
        "pprint(response)"
      ]
    },
    {
      "cell_type": "code",
      "source": [
        "# # get the file from Google Drive - OPTION #1\n",
        "\n",
        "# from google.colab import drive\n",
        "# drive.mount('/content/drive')\n",
        "\n",
        "# with open('/content/drive/MyDrive/image.jpg', 'rb') as file_content:\n",
        "#     file_content = file_content.read()\n"
      ],
      "metadata": {
        "id": "jhePq4Kphdlh"
      },
      "execution_count": null,
      "outputs": []
    },
    {
      "cell_type": "code",
      "source": [
        "# get a file from the bucket\n",
        "\n",
        "from google.cloud import storage as google_storage\n",
        "\n",
        "gs_client = google_storage.Client.create_anonymous_client()\n",
        "bucket = gs_client.bucket(\"ecim-demo-2024\")\n",
        "blob = bucket.get_blob(\"image.jpg\")\n",
        "file_content = blob.download_as_bytes()"
      ],
      "metadata": {
        "id": "ys30J7FP_kzL"
      },
      "execution_count": null,
      "outputs": []
    },
    {
      "cell_type": "code",
      "execution_count": null,
      "metadata": {
        "id": "VYDzWtSxGKcY",
        "collapsed": true
      },
      "outputs": [],
      "source": [
        "# All to upload an image\n",
        "\n",
        "def upload_file_and_metadata(file_content: bytes) -> str:\n",
        "    storage_instruction = dataset_client.storage_instructions(kind_sub_type=\"dataset--File.Generic\")\n",
        "    storage_location = storage_instruction.json()['storageLocation']\n",
        "    #### Uploading\n",
        "\n",
        "    new_file = dataset_client.put_file(url=storage_location['signedUrl'], data=file_content, no_auth=True)\n",
        "\n",
        "    record_list = [\n",
        "                    Record( kind='osdu:wks:dataset--File.Generic:1.0.0',\n",
        "                            acl=Acl(owners=default_acl['owners'], viewers=default_acl['viewers']),\n",
        "                            legal=Legal(legaltags=default_legal_tags, other_relevant_data_countries=[\"US\"], status=\"compliant\"),\n",
        "                            data =   {\n",
        "                                        \"DatasetProperties\": {\n",
        "                                            \"FileSourceInfo\": {\n",
        "                                                \"FileSource\": storage_location['fileSource'],\n",
        "                                                \"Name\": \"image.jpg\"\n",
        "                                            }\n",
        "                                        },\n",
        "                                        \"Name\": \"Dataset with images\",\n",
        "                                        \"ResourceSecurityClassification\": f\"{config['data-partition-id']}:reference-data--ResourceSecurityClassification:RESTRICTED:\",\n",
        "                                        \"SchemaFormatTypeID\": f\"{config['data-partition-id']}:reference-data--SchemaFormatType:TabSeparatedColumnarText:\"\n",
        "                                    },\n",
        "                            ancestry=RecordAncestry(parents=[]))\n",
        "                ]\n",
        "\n",
        "\n",
        "\n",
        "    response = dataset_registry_client.register_dataset(CreateDatasetRegistriesRequest(dataset_registries=record_list))\n",
        "    response.raise_for_status()\n",
        "    registered_dataset = response.json()\n",
        "\n",
        "    pprint(storage_location)\n",
        "    pprint(registered_dataset)\n",
        "    registered_dataset_id = registered_dataset[\"datasetRegistries\"][0][\"id\"]\n",
        "    return registered_dataset_id\n",
        "\n",
        "\n",
        "dataset_id = upload_file_and_metadata(file_content)\n"
      ]
    },
    {
      "cell_type": "code",
      "execution_count": null,
      "metadata": {
        "id": "BTSyPMGZEenD"
      },
      "outputs": [],
      "source": [
        "# Use dataset id to download the file\n",
        "# Get retrieval instructions. Usually, we need a signed url from them\n",
        "\n",
        "retrieval_instructions = dataset_client.retrieval_instructions(dataset_id)\n",
        "retrieval_instructions.raise_for_status()\n",
        "retrieval_instructions = retrieval_instructions.json()\n",
        "signed_url = retrieval_instructions[\"datasets\"][0][\"retrievalProperties\"][\"signedUrl\"]\n",
        "\n",
        "# Get the file's content with the signed url and display it\n",
        "response = requests.get(signed_url)\n",
        "response.raise_for_status()\n",
        "image_file = io.BytesIO(response.content)\n",
        "\n",
        "display(Image.open(image_file))\n",
        "\n"
      ]
    },
    {
      "cell_type": "code",
      "execution_count": null,
      "metadata": {
        "id": "YTmTEpoEEeeW"
      },
      "outputs": [],
      "source": [
        "# All to find there image and probably the other attendances images\n",
        "query_request = QueryRequest(\n",
        "    kind=\"*:*:*:*\",\n",
        "    query=\"data.Name:\\\"Dataset with images\\\"\",\n",
        "    limit=10,\n",
        "    returned_fields=[\"*\"],\n",
        ")\n",
        "response = search_client.query_records(query_request)\n",
        "\n",
        "pprint(response.json())"
      ]
    },
    {
      "cell_type": "markdown",
      "metadata": {
        "id": "jRF31-pLEbvy"
      },
      "source": [
        "# Slot 2 - Investigating well data"
      ]
    },
    {
      "cell_type": "markdown",
      "metadata": {
        "id": "WAGAT_QnYaIG"
      },
      "source": [
        "#### All to search/list wells/wellbores/wellogs/trajectories/... that is uploaded in the **instances**"
      ]
    },
    {
      "cell_type": "code",
      "execution_count": null,
      "metadata": {
        "id": "EovcW3zZt-5i"
      },
      "outputs": [],
      "source": [
        "# Wells\n",
        "query_request = QueryRequest(\n",
        "    kind=\"osdu:wks:master-data--Well:1.0.0\", # \"*:*:master-data--Well:*\",\n",
        "    query=\"\",\n",
        "    limit=5,\n",
        "    returned_fields=[\"*\"]\n",
        ")\n",
        "response = search_client.query_records(query_request)\n",
        "\n",
        "pprint(response.json())"
      ]
    },
    {
      "cell_type": "code",
      "execution_count": null,
      "metadata": {
        "id": "Io6UwN3QVnhv"
      },
      "outputs": [],
      "source": [
        "# Welllogs\n",
        "\n",
        "query_request = QueryRequest(\n",
        "    kind=\"osdu:wks:work-product-component--WellLog:*.*.*\",\n",
        "    query=\"\",\n",
        "    limit=5,\n",
        "    returned_fields=[\"*\"]\n",
        ")\n",
        "response = search_client.query_records(query_request)\n",
        "\n",
        "pprint(response.json())"
      ]
    },
    {
      "cell_type": "code",
      "execution_count": null,
      "metadata": {
        "id": "75FtkgvzGhzr"
      },
      "outputs": [],
      "source": [
        "# Wellbores\n",
        "\n",
        "query_request = QueryRequest(\n",
        "    kind=\"osdu:wks:master-data--Wellbore:1.0.0\",\n",
        "    query=\"\",\n",
        "    limit=5,\n",
        "    returned_fields=[\"*\"]\n",
        ")\n",
        "response = search_client.query_records(query_request)\n",
        "\n",
        "pprint(response.json())"
      ]
    },
    {
      "cell_type": "code",
      "execution_count": null,
      "metadata": {
        "id": "F0HyT1hUWGuC"
      },
      "outputs": [],
      "source": [
        "# Trajectories\n",
        "\n",
        "query_request = QueryRequest(\n",
        "    kind=\"osdu:wks:work-product-component--WellboreTrajectory:*.*.*\",\n",
        "    query=\"\",\n",
        "    limit=5,\n",
        "    returned_fields=[\"*\"]\n",
        ")\n",
        "response = search_client.query_records(query_request)\n",
        "\n",
        "pprint(response.json())"
      ]
    },
    {
      "cell_type": "markdown",
      "metadata": {
        "id": "OE6RDCRvYxKO"
      },
      "source": [
        "#### For one of the few well/wellobres that we have prepped a bit"
      ]
    },
    {
      "cell_type": "code",
      "execution_count": null,
      "metadata": {
        "id": "Zb21cOe-Y9OP"
      },
      "outputs": [],
      "source": [
        "# Use lineage to find welllogs/trajectories/... that belongs to a specific well/wellbore\n",
        "# Welllogs\n",
        "\n",
        "query_request = QueryRequest(\n",
        "    kind=\"osdu:wks:work-product-component--WellLog:*.*.*\",\n",
        "    query=\"data.WellboreID:\\\"osdu:master-data--Wellbore:7233:\\\"\",\n",
        "    limit=5,\n",
        "    returned_fields=[\"*\"]\n",
        ")\n",
        "response = search_client.query_records(query_request)\n",
        "\n",
        "pprint(response.json())\n"
      ]
    },
    {
      "cell_type": "code",
      "execution_count": null,
      "metadata": {
        "id": "F0Jv5dLza7X0"
      },
      "outputs": [],
      "source": [
        "# By usage show that the platform can handle and store versions for some of these data\n",
        "record = Record(\n",
        "    kind='osdu:wks:dataset--File.Generic:1.0.0',\n",
        "    acl=Acl(owners=default_acl['owners'], viewers=default_acl['viewers']),\n",
        "    legal=Legal(legaltags=default_legal_tags, other_relevant_data_countries=[\"US\"], status=\"compliant\"),\n",
        "    data= {\n",
        "        \"msg\": \"Initial Message from AutoTest while testing update\",\n",
        "        \"weight\": 777.0\n",
        "    })\n",
        "# create\n",
        "response = storage_client.create_update_records(records=[record])\n",
        "stored_record = response.json()\n",
        "recordId = stored_record['recordIds'][0]\n",
        "pprint(\"the new record\")\n",
        "pprint(stored_record)\n",
        "print(\"\\n\")\n",
        "\n",
        "# get versions\n",
        "versions = storage_client.get_record_versions(recordId=recordId).json()\n",
        "pprint(\"current versions\")\n",
        "pprint(versions)\n",
        "print(\"\\n\")\n",
        "\n",
        "\n",
        "# update\n",
        "pprint(\"updating the record\")\n",
        "record.data[\"weight\"] = 778\n",
        "record.id = recordId\n",
        "response = storage_client.create_update_records(records=[])\n",
        "\n",
        "# get versions\n",
        "versions = storage_client.get_record_versions(recordId=recordId).json()\n",
        "pprint(\"current versions\")\n",
        "pprint(versions)\n",
        "print(\"\\n\")\n",
        "\n",
        "# update\n",
        "pprint(\"updating the record\")\n",
        "record.data[\"weight\"] = 779\n",
        "record.id = recordId\n",
        "response = storage_client.create_update_records(records=[record])\n",
        "\n",
        "# get versions\n",
        "versions = storage_client.get_record_versions(recordId=recordId).json()\n",
        "pprint(\"current versions\")\n",
        "pprint(versions)\n",
        "checking_version = versions[\"versions\"][-1]\n",
        "pprint(\"current version\")\n",
        "pprint(checking_version)\n",
        "print(\"\\n\")\n",
        "\n",
        "# get specific version\n",
        "version = storage_client.get_specific_record(recordId=recordId, version=checking_version).json()\n",
        "pprint(\"specific version\")\n",
        "pprint(version)"
      ]
    },
    {
      "cell_type": "code",
      "execution_count": null,
      "metadata": {
        "id": "EvGsskycbEC3"
      },
      "outputs": [],
      "source": [
        "# By usage show the difference between index/Storage/File APIs, for a data object\n",
        "# In practice the user seeing the indexed data, the stored data and the payload data (CSV, LAS, DLIS, Parquet)\n",
        "\n",
        "# upload file and metadata using dataset\n",
        "upload_file_and_metadata(image_file)\n",
        "\n",
        "# 10 sec for indexing\n",
        "# search\n",
        "query_request = QueryRequest(\n",
        "    kind= \"*:*:*:*\",\n",
        "    query=\"data.Name:\\\"Dataset with images\\\"\",\n",
        "    limit=2,\n",
        "    returned_fields=[\"*\"]\n",
        ")\n",
        "images_with_metadata = search_client.query_records(query_request).json()\n",
        "pprint(images_with_metadata)\n",
        "\n",
        "# get record from storage\n",
        "record_id = images_with_metadata['results'][0]['id']\n",
        "images_with_metadata = storage_client.query_record(recordId=record_id)\n",
        "pprint(images_with_metadata.json())\n",
        "\n",
        "# download using File Service\n",
        "file_host = config[\"FILE_HOST\"]\n",
        "url = f'{file_host}/files/{record_id}/downloadURL'\n",
        "downloadUrlObject = requests.get(url, headers={'Data-Partition-Id': config['data-partition-id'], 'Authorization': f'Bearer {token_refresher.access_token}'}).json()\n",
        "pprint(downloadUrlObject)\n",
        "\n",
        "file_response = requests.get(downloadUrlObject['SignedUrl'], headers={'Authorization': f'Bearer {token_refresher.access_token}'}, allow_redirects=True)\n",
        "file_response.raise_for_status()\n",
        "file_content = file_response.content\n",
        "file_object = io.BytesIO(file_content)\n",
        "\n",
        "print(\"\\n\", 24 * \"*\")\n",
        "print(\"\\nDisplay image:\\n\")\n",
        "display(Image.open(file_object))\n",
        "\n"
      ]
    },
    {
      "cell_type": "markdown",
      "metadata": {
        "id": "5w8bJPXOoDxJ"
      },
      "source": [
        "# Slot 3 - Wellbore DDMS"
      ]
    },
    {
      "cell_type": "markdown",
      "metadata": {
        "id": "bBUffu5pchoB"
      },
      "source": [
        "For one of the few well/wellbores that we have prepped a bit"
      ]
    },
    {
      "cell_type": "code",
      "execution_count": null,
      "metadata": {
        "id": "17_Dnkwot_s2",
        "collapsed": true
      },
      "outputs": [],
      "source": [
        "# By usage see that the DDMS is an added capability to Index/Storage/File\n",
        "# By usage see that same data can be extracted through both core and DDMS\n",
        "# Show examples on using some of the DDMS APIs. To be determined\n",
        "# Get basic well info to show that it's the same info as you get through the core APIs like (well header, wellbore header, ...)\n",
        "# Demonstrate use of some added functionality in the DDMS\n",
        "# Most likely related to logs and extraction of 1 specific curve, a specific curve interval, etc.\n",
        "\n",
        "# Create a new well\n",
        "\n",
        "url = f\"{schema}://{config['WELLBORE_DDMS_HOST']}/ddms/v3/wells\"\n",
        "headers = {'data-partition-id': config['data-partition-id'], 'Authorization': f'Bearer {token_refresher.access_token}'}\n",
        "body = [{\n",
        "        \"acl\": default_acl,\n",
        "        \"data\": {\n",
        "            \"FacilityName\": \"Faciliity_AutoTest_999956686160\",\n",
        "            \"ExtensionProperties\": {\n",
        "                \"UWI\": \"20-000-00000-00\"\n",
        "            }\n",
        "        },\n",
        "        \"id\": f\"{config['data-partition-id']}:master-data--Well:AutoTest_999956686160\",\n",
        "        \"kind\": \"osdu:wks:master-data--Well:1.0.0\",\n",
        "        \"legal\": {\n",
        "            \"legaltags\": default_legal_tags,\n",
        "            \"otherRelevantDataCountries\": [\n",
        "                \"FR\",\n",
        "                \"US\"\n",
        "            ],\n",
        "            \"status\": \"compliant\"\n",
        "        }\n",
        "    }]\n",
        "\n",
        "\n",
        "uploaded_well = requests.post(url, json=body, headers=headers).json()\n",
        "pprint(uploaded_well)\n",
        "\n",
        "# Get the well using Search\n",
        "query_request = QueryRequest(\n",
        "    kind=\"osdu:wks:master-data--Well:1.0.0\",\n",
        "    query=\"id:\\\"osdu:master-data--Well:AutoTest_999956686160\\\"\",\n",
        "    limit=5,\n",
        "    returned_fields=[\"*\"]\n",
        ")\n",
        "downloaded_well1 = search_client.query_records(query_request).json()\n",
        "pprint(downloaded_well1)\n",
        "\n",
        "# Get the well using Wellbore DDMS\n",
        "url = f\"{schema}://{config['WELLBORE_DDMS_HOST']}/ddms/v3/wells/{uploaded_well['recordIds'][0]}\"\n",
        "downloaded_well2 = requests.get(url, headers=headers).json()\n",
        "pprint(downloaded_well2)\n",
        "\n",
        "\n",
        "# Create a new wellbore\n",
        "\n",
        "url = f\"{schema}://{config['WELLBORE_DDMS_HOST']}/ddms/v3/wellbores\"\n",
        "headers = {'data-partition-id': config['data-partition-id'], 'Authorization': f'Bearer {token_refresher.access_token}'}\n",
        "body = [{\n",
        "        \"acl\": default_acl,\n",
        "        \"data\": {\n",
        "            \"FacilityName\": \"Faciliity_AutoTest_999956686160\",\n",
        "            \"ExtensionProperties\": {\n",
        "                \"UWI\": \"20-000-00000-00\"\n",
        "            }\n",
        "        },\n",
        "        \"id\": f\"{config['data-partition-id']}:master-data--Wellbore:AutoTest_999956686160\",\n",
        "        \"kind\": \"osdu:wks:master-data--Wellbore:1.0.0\",\n",
        "        \"legal\": {\n",
        "            \"legaltags\": default_legal_tags,\n",
        "            \"otherRelevantDataCountries\": [\n",
        "                \"FR\",\n",
        "                \"US\"\n",
        "            ]\n",
        "        },\n",
        "        \"data\": {\n",
        "            \"ExtensionProperties\": {\n",
        "                \"airGap\": {\n",
        "                    \"unitKey\": \"ft\",\n",
        "                    \"value\": 35.0\n",
        "                },\n",
        "                \"country\": \"United States of America\",\n",
        "                \"operator\": \"Francois Vinyes\",\n",
        "                \"uwi\": \"33-089-00300-00-01\",\n",
        "                \"wellboreType\": \"bypass\"\n",
        "            },\n",
        "            \"SpatialLocation\": {\n",
        "                \"Wgs84Coordinates\": {\n",
        "                    \"features\": [{\n",
        "                            \"geometry\": {\n",
        "                                \"coordinates\": [\n",
        "                                    [\n",
        "                                        -103.2380248,\n",
        "                                        46.8925081,\n",
        "                                        5301.0\n",
        "                                    ],\n",
        "                                    [\n",
        "                                        -103.2380248,\n",
        "                                        46.8925081,\n",
        "                                        2801.0\n",
        "                                    ],\n",
        "                                    [\n",
        "                                        -103.2378748,\n",
        "                                        46.892608100000004,\n",
        "                                        301.0\n",
        "                                    ],\n",
        "                                    [\n",
        "                                        -103.23742477750001,\n",
        "                                        46.89270811,\n",
        "                                        -2199.0\n",
        "                                    ],\n",
        "                                    [\n",
        "                                        -103.23667470999663,\n",
        "                                        46.892808120001,\n",
        "                                        -4699.0\n",
        "                                    ],\n",
        "                                    [\n",
        "                                        -103.2356245974865,\n",
        "                                        46.892908130002,\n",
        "                                        -7199.0\n",
        "                                    ]\n",
        "                                ],\n",
        "                                \"type\": \"LineString\"\n",
        "                            },\n",
        "                            \"properties\": {\n",
        "                                \"name\": \"Newton 2-31-Lat-1\"\n",
        "                            },\n",
        "                            \"type\": \"Feature\"\n",
        "                        }\n",
        "                    ],\n",
        "                    \"type\": \"FeatureCollection\"\n",
        "                }\n",
        "            },\n",
        "            \"FacilityName\": \"Faciliity_AutoTest_99995668616\",\n",
        "            \"WellID\": \"osdu:master-data--Well:AutoTest_999956686160:\"\n",
        "        },\n",
        "        \"meta\": [{\n",
        "                \"kind\": \"Unit\",\n",
        "                \"name\": \"Measure depth default unit\",\n",
        "                \"persistableReference\": \"persistableReference\",\n",
        "                \"propertyNames\": [\"symbol\"]\n",
        "            }\n",
        "        ]\n",
        "    }]\n",
        "\n",
        "uploaded_wellbore = requests.post(url, json=body, headers=headers).json()\n",
        "pprint(uploaded_wellbore)\n",
        "\n",
        "# Get the wellbore using Search\n",
        "query_request = QueryRequest(\n",
        "    kind=\"osdu:wks:master-data--Wellbore:1.0.0\",\n",
        "    query=\"id:\\\"osdu:master-data--Wellbore:AutoTest_999956686160\\\"\",\n",
        "    limit=5,\n",
        "    returned_fields=[\"*\"]\n",
        ")\n",
        "downloaded_wellbore1 = search_client.query_records(query_request).json()\n",
        "# pprint(downloaded_wellbore1)\n",
        "\n",
        "# Get the wellbore using Wellbore DDMS\n",
        "url = f\"{schema}://{config['WELLBORE_DDMS_HOST']}/ddms/v3/wellbores/{uploaded_wellbore['recordIds'][0]}\"\n",
        "downloaded_wellbore2 = requests.get(url, headers=headers).json()\n",
        "pprint(downloaded_wellbore2)\n",
        "\n",
        "# Create a trajectory\n",
        "url = f\"{schema}://{config['WELLBORE_DDMS_HOST']}/ddms/v3/wellboretrajectories\"\n",
        "headers = {'data-partition-id': config['data-partition-id'], 'Authorization': f'Bearer {token_refresher.access_token}'}\n",
        "body = [\n",
        "    {\n",
        "        \"acl\": default_acl,\n",
        "        \"legal\": {\n",
        "            \"legaltags\": default_legal_tags,\n",
        "            \"otherRelevantDataCountries\": [\n",
        "                \"FR\",\n",
        "                \"US\"\n",
        "            ]\n",
        "        },\n",
        "        \"id\": f\"{config['data-partition-id']}:work-product-component--WellboreTrajectory:AutoTest_999956686160\",\n",
        "        \"kind\": f\"{config['data-partition-id']}:wks:work-product-component--WellboreTrajectory:1.1.0\",\n",
        "        \"data\": {\n",
        "            \"Name\": \"Wellbore_Trajectory_AutoTest_999956686160\",\n",
        "            \"WellboreID\": f\"{config['data-partition-id']}:master-data--Wellbore::AutoTest_999956686160:\",\n",
        "            \"TopDepthMeasuredDepth\": 0,\n",
        "            \"BaseDepthMeasuredDepth\": 2.0,\n",
        "            \"VerticalMeasurement\": {\n",
        "                \"EffectiveDateTime\": \"2021-08-17T14:13:08.174Z\",\n",
        "                \"VerticalMeasurement\": 0\n",
        "            },\n",
        "            \"AvailableTrajectoryStationProperties\": [\n",
        "                {\n",
        "                    \"TrajectoryStationPropertyTypeID\": f\"{config['data-partition-id']}:reference-data--TrajectoryStationPropertyType:MD:\",\n",
        "                    \"StationPropertyUnitID\": f\"{config['data-partition-id']}:reference-data--UnitOfMeasure:m:\",\n",
        "                    \"Name\": \"Measured Depth\"\n",
        "                },\n",
        "                {\n",
        "                    \"TrajectoryStationPropertyTypeID\": f\"{config['data-partition-id']}:reference-data--TrajectoryStationPropertyType:INCL:\",\n",
        "                    \"StationPropertyUnitID\": f\"{config['data-partition-id']}:reference-data--UnitOfMeasure:dega:\",\n",
        "                    \"Name\": \"Inclination\"\n",
        "                },\n",
        "                {\n",
        "                    \"TrajectoryStationPropertyTypeID\": f\"{config['data-partition-id']}:reference-data--TrajectoryStationPropertyType:AZIM_TN:\",\n",
        "                    \"StationPropertyUnitID\": f\"{config['data-partition-id']}:reference-data--UnitOfMeasure:dega:\",\n",
        "                    \"Name\": \"Azimuth\"\n",
        "                },\n",
        "                {\n",
        "                    \"TrajectoryStationPropertyTypeID\": f\"{config['data-partition-id']}:reference-data--TrajectoryStationPropertyType:TVD:\",\n",
        "                    \"StationPropertyUnitID\": f\"{config['data-partition-id']}:reference-data--UnitOfMeasure:m:\",\n",
        "                    \"Name\": \"True Vertical Depth\"\n",
        "                }\n",
        "            ]\n",
        "        }\n",
        "    }\n",
        "]\n",
        "uploaded_trajectories = requests.post(url, json=body, headers=headers).json()\n",
        "pprint(uploaded_trajectories)\n",
        "\n",
        "# Get the trajectory using Search\n",
        "query_request = QueryRequest(\n",
        "    kind=\"osdu:wks:work-product-component--WellboreTrajectory:1.1.0\",\n",
        "    query=\"id:\\\"osdu:work-product-component--WellboreTrajectory:AutoTest_999956686160\\\"\",\n",
        "    limit=5,\n",
        "    returned_fields=[\"*\"]\n",
        ")\n",
        "downloaded_trajectories1 = search_client.query_records(query_request).json()\n",
        "pprint(downloaded_trajectories1)\n",
        "\n",
        "# Get the trajectory using Wellbore DDMS\n",
        "url = f\"{schema}://{config['WELLBORE_DDMS_HOST']}/ddms/v3/wellboretrajectories/{uploaded_trajectories['recordIds'][0]}\"\n",
        "downloaded_trajectories2 = requests.get(url, headers=headers).json()\n",
        "pprint(downloaded_trajectories2)\n"
      ]
    },
    {
      "cell_type": "code",
      "execution_count": null,
      "metadata": {
        "id": "HnhwUqW2sH9S"
      },
      "outputs": [],
      "source": []
    }
  ],
  "metadata": {
    "colab": {
      "provenance": [],
      "toc_visible": true,
      "include_colab_link": true
    },
    "kernelspec": {
      "display_name": "Python 3",
      "name": "python3"
    },
    "language_info": {
      "codemirror_mode": {
        "name": "ipython",
        "version": 3
      },
      "file_extension": ".py",
      "mimetype": "text/x-python",
      "name": "python",
      "nbconvert_exporter": "python",
      "pygments_lexer": "ipython3",
      "version": "3.12.4"
    }
  },
  "nbformat": 4,
  "nbformat_minor": 0
}